{
 "cells": [
  {
   "cell_type": "code",
   "execution_count": 46,
   "metadata": {},
   "outputs": [],
   "source": [
    "import numpy as np\n",
    "import matplotlib.pyplot as plt\n",
    "import random\n",
    "\n",
    "# 定数設定\n",
    "GRID_SIZE = 20  # グリッドのサイズ\n",
    "AGENT_RATIO = 0.5  # エージェントの比率\n",
    "THRESHOLD = 0.6  # 許容閾値\n",
    "\n",
    "# エージェントのタイプ\n",
    "EMPTY = 0\n",
    "TYPE_A = 1\n",
    "TYPE_B = 2\n",
    "\n",
    "# ランダムシードの設定\n",
    "# random.seed(0)\n",
    "\n",
    "# グリッドの初期化\n",
    "def initialize_grid(grid_size, agent_ratio):\n",
    "    num_agents = int(grid_size * grid_size * agent_ratio)\n",
    "    grid = np.full((grid_size, grid_size), EMPTY)\n",
    "    \n",
    "    # エージェントを配置\n",
    "    positions = random.sample(range(grid_size * grid_size), num_agents)\n",
    "    for pos in positions:\n",
    "        x, y = divmod(pos, grid_size)\n",
    "        if random.random() < 0.5:\n",
    "            grid[x, y] = TYPE_A\n",
    "        else:\n",
    "            grid[x, y] = TYPE_B\n",
    "    \n",
    "    return grid"
   ]
  },
  {
   "cell_type": "code",
   "execution_count": 47,
   "metadata": {},
   "outputs": [],
   "source": [
    "def count_neighbors(grid, x, y, agent_type):\n",
    "    count = 0\n",
    "    for dx in [-1, 0, 1]:\n",
    "        for dy in [-1, 0, 1]:\n",
    "            if (dx != 0 or dy != 0):\n",
    "                nx, ny = x + dx, y + dy\n",
    "                if 0 <= nx < GRID_SIZE and 0 <= ny < GRID_SIZE and grid[nx, ny] == agent_type:\n",
    "                    count += 1\n",
    "    return count\n",
    "\n",
    "def calculate_different_ratio(grid, x, y):\n",
    "    agent_type = grid[x, y]\n",
    "    same_neighbors = count_neighbors(grid, x, y, agent_type)\n",
    "    total_neighbors = count_neighbors(\n",
    "        grid, x, y, TYPE_A) + count_neighbors(grid, x, y, TYPE_B)\n",
    "    same_ratio = same_neighbors / total_neighbors if total_neighbors > 0 else 0\n",
    "    return 1 - same_ratio\n",
    "    "
   ]
  },
  {
   "cell_type": "code",
   "execution_count": 48,
   "metadata": {},
   "outputs": [],
   "source": [
    "def move(grid, x, y):\n",
    "    empty_positions = [(i, j) for i in range(GRID_SIZE)\n",
    "                        for j in range(GRID_SIZE) if grid[i, j] == EMPTY]\n",
    "    if empty_positions:\n",
    "        new_x, new_y = random.choice(empty_positions)\n",
    "        grid[new_x, new_y] = agent_type\n",
    "        grid[x, y] = EMPTY\n",
    "        \n",
    "    return grid"
   ]
  },
  {
   "cell_type": "code",
   "execution_count": 49,
   "metadata": {},
   "outputs": [
    {
     "data": {
      "text/plain": [
       "<matplotlib.image.AxesImage at 0x7f09fdc0f190>"
      ]
     },
     "execution_count": 49,
     "metadata": {},
     "output_type": "execute_result"
    },
    {
     "data": {
      "image/png": "[encoded data removed]",
      "text/plain": [
       "<Figure size 640x480 with 1 Axes>"
      ]
     },
     "metadata": {},
     "output_type": "display_data"
    }
   ],
   "source": [
    "grid = initialize_grid(GRID_SIZE, AGENT_RATIO)\n",
    "plt.imshow(grid, cmap='coolwarm', vmin=0, vmax=2)\n"
   ]
  },
  {
   "cell_type": "code",
   "execution_count": 50,
   "metadata": {},
   "outputs": [
    {
     "data": {
      "text/plain": [
       "<matplotlib.image.AxesImage at 0x7f09fdc87210>"
      ]
     },
     "execution_count": 50,
     "metadata": {},
     "output_type": "execute_result"
    },
    {
     "data": {
      "image/png": "[encoded data removed]",
      "text/plain": [
       "<Figure size 640x480 with 1 Axes>"
      ]
     },
     "metadata": {},
     "output_type": "display_data"
    }
   ],
   "source": [
    "steps = 0\n",
    "while True:\n",
    "    new_grid = grid.copy()\n",
    "    for x in range(GRID_SIZE):\n",
    "        for y in range(GRID_SIZE):\n",
    "            agent_type = grid[x, y]\n",
    "            if agent_type != EMPTY:\n",
    "                diff_ratio = calculate_different_ratio(grid, x, y)\n",
    "                if diff_ratio > THRESHOLD:\n",
    "                    new_grid = move(new_grid, x, y)\n",
    "    steps += 1\n",
    "    if np.all(grid == new_grid):\n",
    "        break\n",
    "    grid = new_grid\n",
    "\n",
    "plt.imshow(grid, cmap='coolwarm', vmin=0, vmax=2)\n"
   ]
  },
  {
   "cell_type": "code",
   "execution_count": null,
   "metadata": {},
   "outputs": [],
   "source": []
  },
  {
   "cell_type": "code",
   "execution_count": null,
   "metadata": {},
   "outputs": [],
   "source": []
  }
 ],
 "metadata": {
  "kernelspec": {
   "display_name": "Python 3",
   "language": "python",
   "name": "python3"
  },
  "language_info": {
   "codemirror_mode": {
    "name": "ipython",
    "version": 3
   },
   "file_extension": ".py",
   "mimetype": "text/x-python",
   "name": "python",
   "nbconvert_exporter": "python",
   "pygments_lexer": "ipython3",
   "version": "3.11.0b3"
  },
  "orig_nbformat": 4,
  "vscode": {
   "interpreter": {
    "hash": "396288460073294dd59699ce4b433547932cf1b7fc4db65c9343daea77cd9687"
   }
  }
 },
 "nbformat": 4,
 "nbformat_minor": 2
}
